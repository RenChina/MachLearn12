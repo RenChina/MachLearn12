{
  "cells": [
    {
      "cell_type": "markdown",
      "metadata": {
        "id": "view-in-github",
        "colab_type": "text"
      },
      "source": [
        "<a href=\"https://colab.research.google.com/github/RenChina/MachLearn12/blob/main/lab1_numpyBabenko.ipynb\" target=\"_parent\"><img src=\"https://colab.research.google.com/assets/colab-badge.svg\" alt=\"Open In Colab\"/></a>"
      ]
    },
    {
      "cell_type": "markdown",
      "metadata": {
        "id": "Lh_n0CU5HjXx"
      },
      "source": [
        "# Домашняя работа. Numpy\n",
        "\n",
        "1. Скачайте этот ноутбук к себе.\n",
        "2. Заполните пропущенные ячейки, отвечая на заданные вопросы. Там должен быть код! (если не сказано обратное)\n",
        "3. Сохраните результат в своём гитхаб репозитории.\n",
        "\n",
        "#### Полезная литература\n",
        "\n",
        "- http://www.numpy.org/\n",
        "- https://jakevdp.github.io/PythonDataScienceHandbook/02.00-introduction-to-numpy.html\n",
        "- https://docs.scipy.org/doc/numpy/user/quickstart.html"
      ]
    },
    {
      "cell_type": "markdown",
      "metadata": {
        "id": "Q1x9UtHxHjXy"
      },
      "source": [
        "1) Импортировать numpy и написать версию"
      ]
    },
    {
      "cell_type": "code",
      "execution_count": null,
      "metadata": {
        "id": "fS7RabSBHjXy"
      },
      "outputs": [],
      "source": [
        "import numpy as np"
      ]
    },
    {
      "cell_type": "markdown",
      "metadata": {
        "id": "H4bFkLWHHjXz"
      },
      "source": [
        "2) Создать нулевой вектор размера 10"
      ]
    },
    {
      "cell_type": "code",
      "execution_count": null,
      "metadata": {
        "id": "FSnZ0EgbHjXz"
      },
      "outputs": [],
      "source": [
        "zero_vector = np.zeros(10)"
      ]
    },
    {
      "cell_type": "code",
      "source": [
        "zero_vector"
      ],
      "metadata": {
        "colab": {
          "base_uri": "https://localhost:8080/"
        },
        "id": "avMGPJowIzcC",
        "outputId": "c16fba3b-b6e1-45bd-f688-d9e038e80500"
      },
      "execution_count": null,
      "outputs": [
        {
          "output_type": "execute_result",
          "data": {
            "text/plain": [
              "array([0., 0., 0., 0., 0., 0., 0., 0., 0., 0.])"
            ]
          },
          "metadata": {},
          "execution_count": 3
        }
      ]
    },
    {
      "cell_type": "markdown",
      "source": [],
      "metadata": {
        "id": "rFhnSPuBIzMR"
      }
    },
    {
      "cell_type": "markdown",
      "metadata": {
        "id": "y-iO7IszHjXz"
      },
      "source": [
        "3) Создать вектор заполненный 7-ами размера 7"
      ]
    },
    {
      "cell_type": "code",
      "execution_count": null,
      "metadata": {
        "id": "hl_ZNyGwHjXz"
      },
      "outputs": [],
      "source": [
        "sevens_vector = np.full(7, 7)"
      ]
    },
    {
      "cell_type": "code",
      "source": [
        "sevens_vector"
      ],
      "metadata": {
        "colab": {
          "base_uri": "https://localhost:8080/"
        },
        "id": "UPxyvSxRI-Cl",
        "outputId": "727feef8-7024-42e4-8d95-db04a4921af0"
      },
      "execution_count": null,
      "outputs": [
        {
          "output_type": "execute_result",
          "data": {
            "text/plain": [
              "array([7, 7, 7, 7, 7, 7, 7])"
            ]
          },
          "metadata": {},
          "execution_count": 5
        }
      ]
    },
    {
      "cell_type": "markdown",
      "metadata": {
        "id": "AOb7QcANHjXz"
      },
      "source": [
        "4) Создать вектор заполненный четными числами от 10 до 100"
      ]
    },
    {
      "cell_type": "code",
      "execution_count": null,
      "metadata": {
        "id": "sCcquWSrHjXz"
      },
      "outputs": [],
      "source": [
        "even_vector = np.arange(10, 101, 2)"
      ]
    },
    {
      "cell_type": "code",
      "source": [
        "even_vector"
      ],
      "metadata": {
        "colab": {
          "base_uri": "https://localhost:8080/"
        },
        "id": "JPEtwg_PJKAq",
        "outputId": "b86944d6-75f9-487d-f1a4-eec274bfc6e4"
      },
      "execution_count": null,
      "outputs": [
        {
          "output_type": "execute_result",
          "data": {
            "text/plain": [
              "array([ 10,  12,  14,  16,  18,  20,  22,  24,  26,  28,  30,  32,  34,\n",
              "        36,  38,  40,  42,  44,  46,  48,  50,  52,  54,  56,  58,  60,\n",
              "        62,  64,  66,  68,  70,  72,  74,  76,  78,  80,  82,  84,  86,\n",
              "        88,  90,  92,  94,  96,  98, 100])"
            ]
          },
          "metadata": {},
          "execution_count": 7
        }
      ]
    },
    {
      "cell_type": "markdown",
      "metadata": {
        "id": "GDdTRTd-HjX0"
      },
      "source": [
        "5) Создать массив случайных чисел и развернуть его задом наперёд"
      ]
    },
    {
      "cell_type": "code",
      "execution_count": null,
      "metadata": {
        "id": "l3ulTmOCHjX0"
      },
      "outputs": [],
      "source": [
        "random_array = np.random.rand(10)"
      ]
    },
    {
      "cell_type": "code",
      "source": [
        "random_array"
      ],
      "metadata": {
        "colab": {
          "base_uri": "https://localhost:8080/"
        },
        "id": "2ceHRnUiJUc5",
        "outputId": "9e5d457d-e61b-48f6-c39e-7991d816a963"
      },
      "execution_count": null,
      "outputs": [
        {
          "output_type": "execute_result",
          "data": {
            "text/plain": [
              "array([0.46954847, 0.82933502, 0.60252527, 0.51666489, 0.62034066,\n",
              "       0.57522132, 0.42922403, 0.05800642, 0.83487425, 0.2975772 ])"
            ]
          },
          "metadata": {},
          "execution_count": 12
        }
      ]
    },
    {
      "cell_type": "code",
      "source": [
        "reversed_array = random_array[::-1]"
      ],
      "metadata": {
        "id": "piU7kcbLJQDn"
      },
      "execution_count": null,
      "outputs": []
    },
    {
      "cell_type": "code",
      "source": [
        "reversed_array"
      ],
      "metadata": {
        "colab": {
          "base_uri": "https://localhost:8080/"
        },
        "id": "O-CgLLsVJSDD",
        "outputId": "fdb4add5-2558-4016-ba9d-d2db5be3725c"
      },
      "execution_count": null,
      "outputs": [
        {
          "output_type": "execute_result",
          "data": {
            "text/plain": [
              "array([0.2975772 , 0.83487425, 0.05800642, 0.42922403, 0.57522132,\n",
              "       0.62034066, 0.51666489, 0.60252527, 0.82933502, 0.46954847])"
            ]
          },
          "metadata": {},
          "execution_count": 10
        }
      ]
    },
    {
      "cell_type": "markdown",
      "metadata": {
        "id": "xHY-SLNGHjX0"
      },
      "source": [
        "6) Создать двумерную матрицу размера 3 на 3, заполненную числами от 0 до 9"
      ]
    },
    {
      "cell_type": "code",
      "execution_count": null,
      "metadata": {
        "id": "EXVvjvOlHjX0"
      },
      "outputs": [],
      "source": [
        "matrix_3x3 = np.arange(9).reshape(3, 3)"
      ]
    },
    {
      "cell_type": "code",
      "source": [
        "matrix_3x3"
      ],
      "metadata": {
        "colab": {
          "base_uri": "https://localhost:8080/"
        },
        "id": "savbjhTmJbPB",
        "outputId": "a941a69e-c87d-4ab3-94f6-81fbbd4224dc"
      },
      "execution_count": null,
      "outputs": [
        {
          "output_type": "execute_result",
          "data": {
            "text/plain": [
              "array([[0, 1, 2],\n",
              "       [3, 4, 5],\n",
              "       [6, 7, 8]])"
            ]
          },
          "metadata": {},
          "execution_count": 14
        }
      ]
    },
    {
      "cell_type": "markdown",
      "metadata": {
        "id": "LXwZnlUEHjX0"
      },
      "source": [
        "7) Создать матрицу размера 4 на 4 с единицами на диагонали смещеной на один наверх."
      ]
    },
    {
      "cell_type": "code",
      "execution_count": null,
      "metadata": {
        "id": "E0ZheEeGHjX0"
      },
      "outputs": [],
      "source": [
        "offset_identity = np.eye(4, k=1)"
      ]
    },
    {
      "cell_type": "code",
      "source": [
        "offset_identity"
      ],
      "metadata": {
        "colab": {
          "base_uri": "https://localhost:8080/"
        },
        "id": "Tdrmoe5wJwrD",
        "outputId": "b692e05c-7785-4d43-b86a-95e5d99816f0"
      },
      "execution_count": null,
      "outputs": [
        {
          "output_type": "execute_result",
          "data": {
            "text/plain": [
              "array([[0., 1., 0., 0.],\n",
              "       [0., 0., 1., 0.],\n",
              "       [0., 0., 0., 1.],\n",
              "       [0., 0., 0., 0.]])"
            ]
          },
          "metadata": {},
          "execution_count": 20
        }
      ]
    },
    {
      "cell_type": "markdown",
      "metadata": {
        "id": "EQyYNSEJHjX0"
      },
      "source": [
        "8) Создать матрицу с числами в диапазоне от 1 до 4 по диагонали. В других ячейках матрицы должны быть семерки."
      ]
    },
    {
      "cell_type": "code",
      "execution_count": null,
      "metadata": {
        "id": "DaLaD5r3HjX0"
      },
      "outputs": [],
      "source": [
        "diag_sevens_matrix = np.full((4, 4), 7)"
      ]
    },
    {
      "cell_type": "code",
      "source": [
        "diag_sevens_matrix"
      ],
      "metadata": {
        "colab": {
          "base_uri": "https://localhost:8080/"
        },
        "id": "gdbAe8HmKH-o",
        "outputId": "ccee8382-abba-4355-ff05-3ae0178e9ad8"
      },
      "execution_count": null,
      "outputs": [
        {
          "output_type": "execute_result",
          "data": {
            "text/plain": [
              "array([[7, 7, 7, 7],\n",
              "       [7, 7, 7, 7],\n",
              "       [7, 7, 7, 7],\n",
              "       [7, 7, 7, 7]])"
            ]
          },
          "metadata": {},
          "execution_count": 22
        }
      ]
    },
    {
      "cell_type": "code",
      "source": [
        "np.fill_diagonal(diag_sevens_matrix, np.arange(1, 5))"
      ],
      "metadata": {
        "id": "SNgH05i9KJxA"
      },
      "execution_count": null,
      "outputs": []
    },
    {
      "cell_type": "code",
      "source": [
        "diag_sevens_matrix"
      ],
      "metadata": {
        "colab": {
          "base_uri": "https://localhost:8080/"
        },
        "id": "UW5cQx36KMhN",
        "outputId": "0c3236b7-b2eb-4f82-d940-f9ce848c5c06"
      },
      "execution_count": null,
      "outputs": [
        {
          "output_type": "execute_result",
          "data": {
            "text/plain": [
              "array([[1, 7, 7, 7],\n",
              "       [7, 2, 7, 7],\n",
              "       [7, 7, 3, 7],\n",
              "       [7, 7, 7, 4]])"
            ]
          },
          "metadata": {},
          "execution_count": 24
        }
      ]
    },
    {
      "cell_type": "markdown",
      "metadata": {
        "id": "U2uhgGqMHjX0"
      },
      "source": [
        "9) Создать матрицу размера 5 на 5 заполненную чилами от 0 до 4 в строках."
      ]
    },
    {
      "cell_type": "code",
      "execution_count": null,
      "metadata": {
        "id": "V8MDLaBNHjX0"
      },
      "outputs": [],
      "source": [
        "row_repeat_matrix = np.tile(np.arange(5), (5, 1))"
      ]
    },
    {
      "cell_type": "code",
      "source": [
        "row_repeat_matrix"
      ],
      "metadata": {
        "colab": {
          "base_uri": "https://localhost:8080/"
        },
        "id": "D64NPlEZKUjl",
        "outputId": "e077c204-60d9-454f-f49c-9b1081810e14"
      },
      "execution_count": null,
      "outputs": [
        {
          "output_type": "execute_result",
          "data": {
            "text/plain": [
              "array([[0, 1, 2, 3, 4],\n",
              "       [0, 1, 2, 3, 4],\n",
              "       [0, 1, 2, 3, 4],\n",
              "       [0, 1, 2, 3, 4],\n",
              "       [0, 1, 2, 3, 4]])"
            ]
          },
          "metadata": {},
          "execution_count": 26
        }
      ]
    },
    {
      "cell_type": "markdown",
      "metadata": {
        "id": "aXY9o4WpHjX0"
      },
      "source": [
        "10) Создать матрицу случайных чисел размера 10 на 10 и отнять среднее по строкам из каждого элемента строки"
      ]
    },
    {
      "cell_type": "code",
      "execution_count": null,
      "metadata": {
        "id": "7qcO9jIhHjX0"
      },
      "outputs": [],
      "source": [
        "random_matrix_10x10 = np.random.rand(10, 10)"
      ]
    },
    {
      "cell_type": "code",
      "source": [
        "random_matrix_10x10"
      ],
      "metadata": {
        "colab": {
          "base_uri": "https://localhost:8080/"
        },
        "id": "aWscP_lRKiG4",
        "outputId": "001633cf-44a5-4f3a-dd81-9a27921770da"
      },
      "execution_count": null,
      "outputs": [
        {
          "output_type": "execute_result",
          "data": {
            "text/plain": [
              "array([[0.76935116, 0.87897989, 0.52411864, 0.01139714, 0.60005081,\n",
              "        0.01290434, 0.16984002, 0.65981613, 0.79148031, 0.65718008],\n",
              "       [0.59172673, 0.5977947 , 0.21383033, 0.44003294, 0.56466168,\n",
              "        0.44973914, 0.92826353, 0.54191202, 0.00331349, 0.21543322],\n",
              "       [0.08466066, 0.01959679, 0.8234007 , 0.9472867 , 0.8031956 ,\n",
              "        0.99095359, 0.63412634, 0.07579534, 0.80293125, 0.91850004],\n",
              "       [0.64611094, 0.12303028, 0.95110045, 0.52529041, 0.01431197,\n",
              "        0.99671234, 0.88387841, 0.26041   , 0.44075256, 0.86004419],\n",
              "       [0.44450284, 0.76459102, 0.05802043, 0.98241105, 0.13501815,\n",
              "        0.59341044, 0.84680483, 0.95413414, 0.28060496, 0.46956821],\n",
              "       [0.70512126, 0.44172223, 0.71916914, 0.47910493, 0.67945502,\n",
              "        0.07429508, 0.65815498, 0.24673989, 0.21880601, 0.27657495],\n",
              "       [0.02384114, 0.142543  , 0.48688503, 0.8086702 , 0.45134787,\n",
              "        0.90844655, 0.83214785, 0.03575624, 0.39041108, 0.33569779],\n",
              "       [0.81184328, 0.30486882, 0.62009995, 0.65820836, 0.28385969,\n",
              "        0.75865961, 0.23664065, 0.71303409, 0.79087379, 0.4966766 ],\n",
              "       [0.10746352, 0.67713811, 0.41684939, 0.1461032 , 0.50359282,\n",
              "        0.70647918, 0.54222586, 0.75913359, 0.59820506, 0.43486949],\n",
              "       [0.6198063 , 0.0159853 , 0.48526963, 0.02868519, 0.74935472,\n",
              "        0.83542772, 0.52430454, 0.45173864, 0.83225674, 0.93288881]])"
            ]
          },
          "metadata": {},
          "execution_count": 30
        }
      ]
    },
    {
      "cell_type": "code",
      "source": [
        "mean_subtracted_matrix = random_matrix_10x10 - random_matrix_10x10.mean(axis=1, keepdims=True)"
      ],
      "metadata": {
        "id": "VHkiwAlDKa3-"
      },
      "execution_count": null,
      "outputs": []
    },
    {
      "cell_type": "code",
      "source": [
        "mean_subtracted_matrix"
      ],
      "metadata": {
        "colab": {
          "base_uri": "https://localhost:8080/"
        },
        "id": "_niKUQMnKfDV",
        "outputId": "d827a0c9-4b24-44af-e690-b4fbeb403383"
      },
      "execution_count": null,
      "outputs": [
        {
          "output_type": "execute_result",
          "data": {
            "text/plain": [
              "array([[ 0.26183931,  0.37146804,  0.01660679, -0.49611471,  0.09253896,\n",
              "        -0.49460752, -0.33767183,  0.15230427,  0.28396846,  0.14966823],\n",
              "       [ 0.13705595,  0.14312392, -0.24084045, -0.01463784,  0.1099909 ,\n",
              "        -0.00493164,  0.47359276,  0.08724124, -0.45135729, -0.23923756],\n",
              "       [-0.52538404, -0.59044791,  0.213356  ,  0.337242  ,  0.1931509 ,\n",
              "         0.38090889,  0.02408164, -0.53424936,  0.19288655,  0.30845534],\n",
              "       [ 0.07594678, -0.44713387,  0.3809363 , -0.04487375, -0.55585218,\n",
              "         0.42654818,  0.31371426, -0.30975416, -0.12941159,  0.28988003],\n",
              "       [-0.10840377,  0.21168441, -0.49488618,  0.42950444, -0.41788846,\n",
              "         0.04050383,  0.29389822,  0.40122753, -0.27230165, -0.08333839],\n",
              "       [ 0.25520691, -0.00819212,  0.26925479,  0.02919059,  0.22954067,\n",
              "        -0.37561927,  0.20824063, -0.20317446, -0.23110834, -0.1733394 ],\n",
              "       [-0.41773354, -0.29903167,  0.04531035,  0.36709553,  0.00977319,\n",
              "         0.46687188,  0.39057318, -0.40581844, -0.05116359, -0.10587689],\n",
              "       [ 0.24436679, -0.26260766,  0.05262346,  0.09073187, -0.28361679,\n",
              "         0.19118313, -0.33083583,  0.14555761,  0.2233973 , -0.07079988],\n",
              "       [-0.3817425 ,  0.18793208, -0.07235663, -0.34310282,  0.01438679,\n",
              "         0.21727315,  0.05301984,  0.26992757,  0.10899904, -0.05433653],\n",
              "       [ 0.07223454, -0.53158646, -0.06230213, -0.51888657,  0.20178296,\n",
              "         0.28785597, -0.02326722, -0.09583312,  0.28468498,  0.38531705]])"
            ]
          },
          "metadata": {},
          "execution_count": 29
        }
      ]
    },
    {
      "cell_type": "markdown",
      "metadata": {
        "id": "j8ZMjLyMHjX1"
      },
      "source": [
        "11) Создать матрицу случайных чисел размера 10 на 10 и отнять медиану по столбцам из каждого элемента столбца  "
      ]
    },
    {
      "cell_type": "code",
      "execution_count": null,
      "metadata": {
        "id": "XJ0SY6wUHjX1"
      },
      "outputs": [],
      "source": [
        "median_subtracted_matrix = random_matrix_10x10 - np.median(random_matrix_10x10, axis=0)"
      ]
    },
    {
      "cell_type": "code",
      "source": [
        "median_subtracted_matrix"
      ],
      "metadata": {
        "colab": {
          "base_uri": "https://localhost:8080/"
        },
        "id": "mG_Eoo7KKpTa",
        "outputId": "f9547fbe-c49c-4036-9549-3a59fa86d46f"
      },
      "execution_count": null,
      "outputs": [
        {
          "output_type": "execute_result",
          "data": {
            "text/plain": [
              "array([[ 0.16358465,  0.50568437,  0.01861681, -0.49080053,  0.06592356,\n",
              "        -0.71966506, -0.47630063,  0.1629908 ,  0.2720015 ,  0.17405767],\n",
              "       [-0.01403979,  0.22449918, -0.2916715 , -0.06216473,  0.03053443,\n",
              "        -0.28283026,  0.28212287,  0.04508669, -0.51616533, -0.26768919],\n",
              "       [-0.52110586, -0.35369873,  0.31789886,  0.44508903,  0.26906836,\n",
              "         0.2583842 , -0.01201432, -0.42102998,  0.28345243,  0.43537763],\n",
              "       [ 0.04034442, -0.25026524,  0.44559862,  0.02309274, -0.51981527,\n",
              "         0.26414294,  0.23773775, -0.23641533, -0.07872625,  0.37692178],\n",
              "       [-0.16126367,  0.3912955 , -0.4474814 ,  0.48021338, -0.3991091 ,\n",
              "        -0.13915895,  0.20066417,  0.45730881, -0.23887385, -0.01355419],\n",
              "       [ 0.09935475,  0.0684267 ,  0.2136673 , -0.02309274,  0.14532777,\n",
              "        -0.65827431,  0.01201432, -0.25008544, -0.3006728 , -0.20654746],\n",
              "       [-0.58192538, -0.23075252, -0.01861681,  0.30647253, -0.08277938,\n",
              "         0.17587716,  0.18600719, -0.46106909, -0.12906773, -0.14742462],\n",
              "       [ 0.20607676, -0.0684267 ,  0.11459811,  0.15601069, -0.25026755,\n",
              "         0.02609022, -0.40950001,  0.21620876,  0.27139497,  0.01355419],\n",
              "       [-0.49830299,  0.30384258, -0.08865244, -0.35609447, -0.03053443,\n",
              "        -0.02609022, -0.1039148 ,  0.26230826,  0.07872625, -0.04825291],\n",
              "       [ 0.01403979, -0.35731022, -0.0202322 , -0.47351248,  0.21522747,\n",
              "         0.10285833, -0.12183612, -0.04508669,  0.31277793,  0.4497664 ]])"
            ]
          },
          "metadata": {},
          "execution_count": 32
        }
      ]
    },
    {
      "cell_type": "markdown",
      "metadata": {
        "id": "DSwHV6r8HjX1"
      },
      "source": [
        "12) Создать матрицу случайных чисел 5x5. Добавить к ней столбецы максимумов и минимумов по строкам. Получится матрица 5x7.\n",
        "\n",
        "> Добавить блок с цитатой\n",
        "\n"
      ]
    },
    {
      "cell_type": "code",
      "execution_count": null,
      "metadata": {
        "id": "MjmPIfJLHjX1"
      },
      "outputs": [],
      "source": [
        "matrix = np.random.rand(5, 5)\n",
        "row_max = np.max(matrix, axis=1).reshape(-1, 1)\n",
        "row_min = np.min(matrix, axis=1).reshape(-1, 1)\n",
        "new_matrix = np.hstack((matrix, row_max, row_min))\n"
      ]
    },
    {
      "cell_type": "code",
      "source": [
        "new_matrix"
      ],
      "metadata": {
        "colab": {
          "base_uri": "https://localhost:8080/"
        },
        "id": "2nMxPMQvR9m1",
        "outputId": "df6af39e-d076-4ffc-9960-ea5e27064e8c"
      },
      "execution_count": null,
      "outputs": [
        {
          "output_type": "execute_result",
          "data": {
            "text/plain": [
              "array([[0.62941503, 0.58064476, 0.99494005, 0.51441699, 0.19171725,\n",
              "        0.99494005, 0.19171725],\n",
              "       [0.48600436, 0.88107597, 0.29240558, 0.65912114, 0.60183474,\n",
              "        0.88107597, 0.29240558],\n",
              "       [0.29621323, 0.18103659, 0.85189716, 0.23640351, 0.05774191,\n",
              "        0.85189716, 0.05774191],\n",
              "       [0.45361518, 0.93784265, 0.90558108, 0.99873853, 0.72742545,\n",
              "        0.99873853, 0.45361518],\n",
              "       [0.74624535, 0.32883622, 0.13395188, 0.57093484, 0.02196555,\n",
              "        0.74624535, 0.02196555]])"
            ]
          },
          "metadata": {},
          "execution_count": 4
        }
      ]
    },
    {
      "cell_type": "markdown",
      "metadata": {
        "id": "IjTnzaIbHjX1"
      },
      "source": [
        "13) Вектор чисел от 1 до 51 преобразовать в вектор нечетных чисел и в вектор четных чисел, поменять их размерности, чтобы получились две матрица. Найти произведение этих матриц. Найти обратную матрицу эётого произведения.  "
      ]
    },
    {
      "cell_type": "code",
      "execution_count": null,
      "metadata": {
        "id": "3dASYYacHjX1",
        "colab": {
          "base_uri": "https://localhost:8080/"
        },
        "outputId": "0624813d-a2d2-490b-d599-a7bdaf411bf9"
      },
      "outputs": [
        {
          "output_type": "stream",
          "name": "stdout",
          "text": [
            "Матрица необратима (определитель равен нулю)\n",
            "Матрица из нечетных чисел:\n",
            " [[ 1]\n",
            " [ 3]\n",
            " [ 5]\n",
            " [ 7]\n",
            " [ 9]\n",
            " [11]\n",
            " [13]\n",
            " [15]\n",
            " [17]\n",
            " [19]\n",
            " [21]\n",
            " [23]\n",
            " [25]\n",
            " [27]\n",
            " [29]\n",
            " [31]\n",
            " [33]\n",
            " [35]\n",
            " [37]\n",
            " [39]\n",
            " [41]\n",
            " [43]\n",
            " [45]\n",
            " [47]\n",
            " [49]\n",
            " [51]]\n",
            "Матрица из четных чисел:\n",
            " [[ 2  4  6  8 10 12 14 16 18 20 22 24 26 28 30 32 34 36 38 40 42 44 46 48\n",
            "  50]]\n",
            "Произведение матриц:\n",
            " [[   2    4    6    8   10   12   14   16   18   20   22   24   26   28\n",
            "    30   32   34   36   38   40   42   44   46   48   50]\n",
            " [   6   12   18   24   30   36   42   48   54   60   66   72   78   84\n",
            "    90   96  102  108  114  120  126  132  138  144  150]\n",
            " [  10   20   30   40   50   60   70   80   90  100  110  120  130  140\n",
            "   150  160  170  180  190  200  210  220  230  240  250]\n",
            " [  14   28   42   56   70   84   98  112  126  140  154  168  182  196\n",
            "   210  224  238  252  266  280  294  308  322  336  350]\n",
            " [  18   36   54   72   90  108  126  144  162  180  198  216  234  252\n",
            "   270  288  306  324  342  360  378  396  414  432  450]\n",
            " [  22   44   66   88  110  132  154  176  198  220  242  264  286  308\n",
            "   330  352  374  396  418  440  462  484  506  528  550]\n",
            " [  26   52   78  104  130  156  182  208  234  260  286  312  338  364\n",
            "   390  416  442  468  494  520  546  572  598  624  650]\n",
            " [  30   60   90  120  150  180  210  240  270  300  330  360  390  420\n",
            "   450  480  510  540  570  600  630  660  690  720  750]\n",
            " [  34   68  102  136  170  204  238  272  306  340  374  408  442  476\n",
            "   510  544  578  612  646  680  714  748  782  816  850]\n",
            " [  38   76  114  152  190  228  266  304  342  380  418  456  494  532\n",
            "   570  608  646  684  722  760  798  836  874  912  950]\n",
            " [  42   84  126  168  210  252  294  336  378  420  462  504  546  588\n",
            "   630  672  714  756  798  840  882  924  966 1008 1050]\n",
            " [  46   92  138  184  230  276  322  368  414  460  506  552  598  644\n",
            "   690  736  782  828  874  920  966 1012 1058 1104 1150]\n",
            " [  50  100  150  200  250  300  350  400  450  500  550  600  650  700\n",
            "   750  800  850  900  950 1000 1050 1100 1150 1200 1250]\n",
            " [  54  108  162  216  270  324  378  432  486  540  594  648  702  756\n",
            "   810  864  918  972 1026 1080 1134 1188 1242 1296 1350]\n",
            " [  58  116  174  232  290  348  406  464  522  580  638  696  754  812\n",
            "   870  928  986 1044 1102 1160 1218 1276 1334 1392 1450]\n",
            " [  62  124  186  248  310  372  434  496  558  620  682  744  806  868\n",
            "   930  992 1054 1116 1178 1240 1302 1364 1426 1488 1550]\n",
            " [  66  132  198  264  330  396  462  528  594  660  726  792  858  924\n",
            "   990 1056 1122 1188 1254 1320 1386 1452 1518 1584 1650]\n",
            " [  70  140  210  280  350  420  490  560  630  700  770  840  910  980\n",
            "  1050 1120 1190 1260 1330 1400 1470 1540 1610 1680 1750]\n",
            " [  74  148  222  296  370  444  518  592  666  740  814  888  962 1036\n",
            "  1110 1184 1258 1332 1406 1480 1554 1628 1702 1776 1850]\n",
            " [  78  156  234  312  390  468  546  624  702  780  858  936 1014 1092\n",
            "  1170 1248 1326 1404 1482 1560 1638 1716 1794 1872 1950]\n",
            " [  82  164  246  328  410  492  574  656  738  820  902  984 1066 1148\n",
            "  1230 1312 1394 1476 1558 1640 1722 1804 1886 1968 2050]\n",
            " [  86  172  258  344  430  516  602  688  774  860  946 1032 1118 1204\n",
            "  1290 1376 1462 1548 1634 1720 1806 1892 1978 2064 2150]\n",
            " [  90  180  270  360  450  540  630  720  810  900  990 1080 1170 1260\n",
            "  1350 1440 1530 1620 1710 1800 1890 1980 2070 2160 2250]\n",
            " [  94  188  282  376  470  564  658  752  846  940 1034 1128 1222 1316\n",
            "  1410 1504 1598 1692 1786 1880 1974 2068 2162 2256 2350]\n",
            " [  98  196  294  392  490  588  686  784  882  980 1078 1176 1274 1372\n",
            "  1470 1568 1666 1764 1862 1960 2058 2156 2254 2352 2450]\n",
            " [ 102  204  306  408  510  612  714  816  918 1020 1122 1224 1326 1428\n",
            "  1530 1632 1734 1836 1938 2040 2142 2244 2346 2448 2550]]\n"
          ]
        }
      ],
      "source": [
        "vector = np.arange(1, 52)\n",
        "\n",
        "odd_numbers = vector[vector % 2 != 0]\n",
        "even_numbers = vector[vector % 2 == 0]\n",
        "\n",
        "odd_matrix = odd_numbers.reshape(-1, 1)\n",
        "even_matrix = even_numbers.reshape(1, -1)\n",
        "\n",
        "product_matrix = np.dot(odd_matrix, even_matrix)\n",
        "\n",
        "try:\n",
        "    inverse_matrix = np.linalg.inv(product_matrix)\n",
        "    print(\"Обратная матрица:\\n\", inverse_matrix)\n",
        "except np.linalg.LinAlgError:\n",
        "    print(\"Матрица необратима (определитель равен нулю)\")\n",
        "\n",
        "print(\"Матрица из нечетных чисел:\\n\", odd_matrix)\n",
        "print(\"Матрица из четных чисел:\\n\", even_matrix)\n",
        "print(\"Произведение матриц:\\n\", product_matrix)"
      ]
    },
    {
      "cell_type": "markdown",
      "metadata": {
        "id": "kC5mgLqNHjX1"
      },
      "source": [
        "14) Создать 8x8 матрицу и заполнить её в шахматном порядке нулями и единицами."
      ]
    },
    {
      "cell_type": "code",
      "execution_count": null,
      "metadata": {
        "id": "cJXigaJUHjX1",
        "colab": {
          "base_uri": "https://localhost:8080/"
        },
        "outputId": "d1697ed2-9fb3-4283-b42e-9370fb74c83b"
      },
      "outputs": [
        {
          "output_type": "stream",
          "name": "stdout",
          "text": [
            "Шахматная матрица 8x8:\n",
            " [[0 1 0 1 0 1 0 1]\n",
            " [1 0 1 0 1 0 1 0]\n",
            " [0 1 0 1 0 1 0 1]\n",
            " [1 0 1 0 1 0 1 0]\n",
            " [0 1 0 1 0 1 0 1]\n",
            " [1 0 1 0 1 0 1 0]\n",
            " [0 1 0 1 0 1 0 1]\n",
            " [1 0 1 0 1 0 1 0]]\n"
          ]
        }
      ],
      "source": [
        "chessboard = np.zeros((8, 8), dtype=int)\n",
        "\n",
        "chessboard[1::2, ::2] = 1\n",
        "chessboard[::2, 1::2] = 1\n",
        "\n",
        "print(\"Шахматная матрица 8x8:\\n\", chessboard)"
      ]
    }
  ],
  "metadata": {
    "kernelspec": {
      "display_name": "Python 3 (ipykernel)",
      "language": "python",
      "name": "python3"
    },
    "language_info": {
      "codemirror_mode": {
        "name": "ipython",
        "version": 3
      },
      "file_extension": ".py",
      "mimetype": "text/x-python",
      "name": "python",
      "nbconvert_exporter": "python",
      "pygments_lexer": "ipython3",
      "version": "3.12.4"
    },
    "colab": {
      "provenance": [],
      "include_colab_link": true
    }
  },
  "nbformat": 4,
  "nbformat_minor": 0
}